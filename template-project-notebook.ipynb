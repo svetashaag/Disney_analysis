{
 "cells": [
  {
   "cell_type": "markdown",
   "id": "94d88980",
   "metadata": {},
   "source": [
    "## Импортируем и читаем какие-то непонятные буковки и циферки"
   ]
  },
  {
   "cell_type": "code",
   "execution_count": 24,
   "id": "fda48f7f",
   "metadata": {},
   "outputs": [],
   "source": [
    "import csv\n",
    "\n",
    "with open('disney_plus_shows.csv', 'r', encoding='utf-8') as f:\n",
    "    csv_reader = csv.DictReader(f)\n",
    "    \n",
    "    data = list(csv_reader)\n",
    "#print(data)"
   ]
  },
  {
   "cell_type": "markdown",
   "id": "f76696e6",
   "metadata": {},
   "source": [
    "## Следующий шаг\n",
    "\n",
    "Опишите шаги обработки вашего проекта. К примеру, вы вычищаете из файла ненужные символы или фильтруете его по годам. Или сразу начинаете его обрабатывать:"
   ]
  },
  {
   "cell_type": "code",
   "execution_count": 16,
   "id": "672bd57a",
   "metadata": {},
   "outputs": [
    {
     "name": "stdout",
     "output_type": "stream",
     "text": [
      "Всего фильмов: 680\n",
      "Всего сериалов: 191\n",
      "Всего контента: 992\n"
     ]
    }
   ],
   "source": [
    "# 1. Подсчет фильмов и сериалов\n",
    "movies_count = 0\n",
    "series_count = 0\n",
    "\n",
    "for item in data:\n",
    "    if item['type'] == 'movie':\n",
    "        movies_count += 1\n",
    "    elif item['type'] == 'series':\n",
    "        series_count += 1\n",
    "\n",
    "print(f\"Всего фильмов: {movies_count}\")\n",
    "print(f\"Всего сериалов: {series_count}\")\n",
    "print(f\"Всего контента: {len(data)}\")"
   ]
  },
  {
   "cell_type": "markdown",
   "id": "6491286e",
   "metadata": {},
   "source": [
    "## Топ 10 фильмов по рейтингу (кликбейтно хехехеех)\n",
    "\n",
    "Бла-бла-бла, я семен лобанов, а меня голова из картошки"
   ]
  },
  {
   "cell_type": "code",
   "execution_count": 18,
   "id": "59b1eb56",
   "metadata": {},
   "outputs": [
    {
     "name": "stdout",
     "output_type": "stream",
     "text": [
      "ТОП-10 фильмов по рейтингу:\n",
      "1. Star Wars: Episode V - The Empire Strikes Back - 8.7 (1980)\n",
      "2. Star Wars: Episode IV - A New Hope - 8.6 (1977)\n",
      "3. Disney's Newsies: The Broadway Musical! - 8.5 (2017)\n",
      "4. The Lion King - 8.5 (1994)\n",
      "5. Coco - 8.4 (2017)\n",
      "6. Avengers: Endgame - 8.4 (2019)\n",
      "7. Piper - 8.4 (2016)\n",
      "8. Presto - 8.4 (2008)\n",
      "9. WALL·E - 8.4 (2008)\n",
      "10. Before the Flood - 8.3 (2016)\n"
     ]
    }
   ],
   "source": [
    "movies_with_rating = []\n",
    "for item in data:\n",
    "    if item['type'] == 'movie' and item['imdb_rating'] and item['imdb_rating'] != 'N/A':\n",
    "        movies_with_rating.append(item)\n",
    "\n",
    "# Сортируем по рейтингу (от высокого к низкому)\n",
    "sorted_movies = sorted(movies_with_rating, key=lambda x: float(x['imdb_rating']), reverse=True)\n",
    "\n",
    "print(\"ТОП-10 фильмов по рейтингу:\")\n",
    "for i, movie in enumerate(sorted_movies[:10], 1):\n",
    "    print(f\"{i}. {movie['title']} - {movie['imdb_rating']} ({movie['year']})\")"
   ]
  },
  {
   "cell_type": "code",
   "execution_count": null,
   "id": "c4041330-e473-45c6-9512-ee5a09ad0037",
   "metadata": {},
   "outputs": [],
   "source": []
  },
  {
   "cell_type": "code",
   "execution_count": 19,
   "id": "6047a411-204c-4af8-a7f5-3966782fb2db",
   "metadata": {},
   "outputs": [
    {
     "name": "stdout",
     "output_type": "stream",
     "text": [
      "Количество контента по годам:\n",
      "==============================\n",
      "2019: 31 шт.\n",
      "2017: 27 шт.\n",
      "2003: 27 шт.\n",
      "2002: 22 шт.\n",
      "2000: 22 шт.\n",
      "2011: 22 шт.\n",
      "2005: 22 шт.\n",
      "2004: 22 шт.\n",
      "2009: 22 шт.\n",
      "2016: 22 шт.\n",
      "2008: 21 шт.\n",
      "2018: 20 шт.\n",
      "2006: 20 шт.\n",
      "1998: 19 шт.\n",
      "1999: 18 шт.\n"
     ]
    }
   ],
   "source": [
    "# Собираем статистику по годам\n",
    "year_stats = {}\n",
    "for item in data:\n",
    "    year = item['year']\n",
    "    if year and year != 'N/A':\n",
    "        if year not in year_stats:\n",
    "            year_stats[year] = 0\n",
    "        year_stats[year] += 1\n",
    "\n",
    "# Сортируем годы\n",
    "sorted_years = sorted(year_stats.items(), key=lambda x: x[1], reverse=True)\n",
    "\n",
    "print(\"Количество контента по годам:\")\n",
    "for year, count in sorted_years[:15]:  # топ-15 лет\n",
    "    print(f\"{year}: {count} шт.\")"
   ]
  },
  {
   "cell_type": "code",
   "execution_count": null,
   "id": "1f981f3c-14bb-4c35-8ea6-2cf87c06bed0",
   "metadata": {},
   "outputs": [],
   "source": []
  },
  {
   "cell_type": "code",
   "execution_count": 23,
   "id": "d8ccf769-5b64-4092-8a2b-4f5bd667f327",
   "metadata": {},
   "outputs": [
    {
     "name": "stdout",
     "output_type": "stream",
     "text": [
      "Топ режиссеров по количеству работ:\n",
      "N/A: 205 работ\n",
      "Wilfred Jackson: 21 работ\n",
      "Clyde Geronimi: 17 работ\n",
      "Jack Hannah: 16 работ\n",
      "Paul Hoen: 15 работ\n",
      "Jack Kinney: 15 работ\n",
      "Hamilton Luske: 13 работ\n",
      "James Algar: 13 работ\n",
      "John Lasseter: 12 работ\n",
      "Robert Stevenson: 11 работ\n"
     ]
    }
   ],
   "source": [
    "# Собираем режиссеров\n",
    "directors = {}\n",
    "for item in data:\n",
    "    if item['director']:\n",
    "        director_list = [d.strip() for d in item['director'].split(',')]\n",
    "        for director in director_list:\n",
    "            if director not in directors:\n",
    "                directors[director] = 0\n",
    "            directors[director] += 1\n",
    "\n",
    "# Функция для получения количества работ (второй элемент кортежа)\n",
    "def get_director_count(director_tuple):\n",
    "    return director_tuple[1]\n",
    "\n",
    "# Сортируем используя нашу функцию\n",
    "top_directors = sorted(directors.items(), key=get_director_count, reverse=True)\n",
    "\n",
    "print(\"Топ режиссеров по количеству работ:\")\n",
    "for director, count in top_directors[:10]:\n",
    "    print(f\"{director}: {count} работ\")"
   ]
  },
  {
   "cell_type": "code",
   "execution_count": null,
   "id": "a5335c3e-5265-40f5-ac26-ebf125fe8995",
   "metadata": {},
   "outputs": [],
   "source": []
  },
  {
   "cell_type": "code",
   "execution_count": 30,
   "id": "0e0d17cf-4e61-4775-bbef-24903d0afda7",
   "metadata": {},
   "outputs": [
    {
     "name": "stdin",
     "output_type": "stream",
     "text": [
      "Введите имя режиссера:  Tim Burton\n"
     ]
    },
    {
     "name": "stdout",
     "output_type": "stream",
     "text": [
      "\n",
      "Работы режиссера Tim Burton: 4\n",
      "==================================================\n",
      "- Alice in Wonderland (2010)\n",
      "  Тип: movie\n",
      "  Рейтинг: 6.4\n",
      "  Жанр: Adventure, Family, Fantasy\n",
      "\n",
      "- Dumbo (2019)\n",
      "  Тип: movie\n",
      "  Рейтинг: 6.3\n",
      "  Жанр: Adventure, Family, Fantasy\n",
      "\n",
      "- Frankenweenie (2012)\n",
      "  Тип: movie\n",
      "  Рейтинг: 6.9\n",
      "  Жанр: Animation, Comedy, Family, Horror, Sci-Fi\n",
      "\n",
      "- Frankenweenie (1984)\n",
      "  Тип: movie\n",
      "  Рейтинг: 7.3\n",
      "  Жанр: Short, Comedy, Drama, Sci-Fi\n",
      "\n"
     ]
    }
   ],
   "source": [
    "import csv\n",
    "\n",
    "with open('disney_plus_shows.csv', 'r', encoding='utf-8') as f:\n",
    "    csv_reader = csv.DictReader(f)\n",
    "    data = list(csv_reader)\n",
    "\n",
    "def find_by_director(director_name):\n",
    "    \"\"\"Поиск контента по режиссеру\"\"\"\n",
    "    results = []\n",
    "    for item in data:\n",
    "        if item['director'] and director_name.lower() in item['director'].lower():\n",
    "            results.append(item)\n",
    "    return results\n",
    "\n",
    "# Запрашиваем режиссера у пользователя\n",
    "director_name = input(\"Введите имя режиссера: \")\n",
    "\n",
    "# Ищем работы режиссера\n",
    "director_works = find_by_director(director_name)\n",
    "\n",
    "if director_works:\n",
    "    print(f\"\\nРаботы режиссера {director_name}: {len(director_works)}\")\n",
    "    print(\"=\" * 50)\n",
    "    \n",
    "    for work in director_works:\n",
    "        print(f\"- {work['title']} ({work['year']})\")\n",
    "        print(f\"  Тип: {work['type']}\")\n",
    "        print(f\"  Рейтинг: {work['imdb_rating']}\")\n",
    "        print(f\"  Жанр: {work['genre']}\")\n",
    "        print()\n",
    "else:\n",
    "    print(f\"\\nРежиссер {director_name} не найден в базе данных\")"
   ]
  },
  {
   "cell_type": "code",
   "execution_count": null,
   "id": "8f4c863a-b3b5-4162-9b35-55b665b3c8ef",
   "metadata": {},
   "outputs": [],
   "source": []
  },
  {
   "cell_type": "markdown",
   "id": "67948a07",
   "metadata": {},
   "source": [
    "## Выводы\n",
    "\n",
    "Сделайте короткое описание того, что вы сделали и зачем, какие выводы должен извлечь читатель из вашего исследования."
   ]
  },
  {
   "cell_type": "code",
   "execution_count": null,
   "id": "c3059842-5369-4b35-a3f0-2a7d095302bf",
   "metadata": {},
   "outputs": [],
   "source": []
  }
 ],
 "metadata": {
  "kernelspec": {
   "display_name": "Python 3 (ipykernel)",
   "language": "python",
   "name": "python3"
  },
  "language_info": {
   "codemirror_mode": {
    "name": "ipython",
    "version": 3
   },
   "file_extension": ".py",
   "mimetype": "text/x-python",
   "name": "python",
   "nbconvert_exporter": "python",
   "pygments_lexer": "ipython3",
   "version": "3.13.5"
  }
 },
 "nbformat": 4,
 "nbformat_minor": 5
}
