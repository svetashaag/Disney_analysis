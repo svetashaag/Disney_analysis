{
 "cells": [
  {
   "cell_type": "markdown",
   "id": "94d88980",
   "metadata": {},
   "source": [
    "## Импортируем и читаем какие-то непонятные буковки и циферки"
   ]
  },
  {
   "cell_type": "code",
   "execution_count": 1,
   "id": "fda48f7f",
   "metadata": {},
   "outputs": [],
   "source": [
    "import csv\n",
    "\n",
    "with open('disney_plus_shows.csv', 'r', encoding='utf-8') as f:\n",
    "    csv_reader = csv.DictReader(f)\n",
    "    \n",
    "    data = list(csv_reader)\n",
    "#print(data)"
   ]
  },
  {
   "cell_type": "markdown",
   "id": "f76696e6",
   "metadata": {},
   "source": [
    "## Сколько же всего фильмов? Хватит, чтобы съесть весь попкорн?\n",
    "\n",
    "Сейчас мы и узнаем сколько всего контента: фильмы или же сериалы)"
   ]
  },
  {
   "cell_type": "code",
   "execution_count": 5,
   "id": "672bd57a",
   "metadata": {},
   "outputs": [
    {
     "name": "stdout",
     "output_type": "stream",
     "text": [
      "Всего фильмов: 680\n",
      "Всего сериалов: 191\n",
      "Всего контента: 871\n"
     ]
    }
   ],
   "source": [
    "# 1. Подсчет фильмов и сериалов\n",
    "films = 0\n",
    "serials = 0\n",
    "\n",
    "# Проходим по всем элементам\n",
    "for kontent in data:\n",
    "    if kontent['type'] == 'movie':\n",
    "        films += 1\n",
    "    elif kontent['type'] == 'series':\n",
    "        serials += 1\n",
    "\n",
    "# Выводим результаты\n",
    "print(\"Всего фильмов:\", films)\n",
    "print(\"Всего сериалов:\", serials)\n",
    "print(\"Всего контента:\", films + serials)"
   ]
  },
  {
   "cell_type": "markdown",
   "id": "51b0e766-69d4-46ce-a4d8-aeb95f85bead",
   "metadata": {},
   "source": [
    " ## ТОП-10 фильмов с самыми высокими рейтингами IMDb.\n",
    "ля ля ля я семен лобанов, у меня голова из картошки\n",
    " "
   ]
  },
  {
   "cell_type": "code",
   "execution_count": 40,
   "id": "c4041330-e473-45c6-9512-ee5a09ad0037",
   "metadata": {},
   "outputs": [
    {
     "name": "stdout",
     "output_type": "stream",
     "text": [
      "ТОП-10 фильмов по рейтингу IMDb:\n",
      "№ 1 Star Wars: Episode V - The Empire Strikes Back - 8.7\n",
      "№ 2 Star Wars: Episode IV - A New Hope - 8.6\n",
      "№ 3 The Lion King - 8.5\n",
      "№ 4 Disney's Newsies: The Broadway Musical! - 8.5\n",
      "№ 5 WALL·E - 8.4\n",
      "№ 6 Presto - 8.4\n",
      "№ 7 Piper - 8.4\n",
      "№ 8 Coco - 8.4\n",
      "№ 9 Avengers: Endgame - 8.4\n",
      "№ 10 Toy Story 3 - 8.3\n"
     ]
    }
   ],
   "source": [
    "movie_ratings = {} #создаем новый словарь\n",
    "\n",
    "for item in data: # проходим по всем элементам в data\n",
    "    if item['type'] == 'movie' and item['imdb_rating'] and item['imdb_rating'] != 'N/A': # проверяем, что нет пустых значений, они на не нужныыы\n",
    "        movie_ratings[item['title']] = item['imdb_rating'] # добавляем в новый словарь ключи и значения.\n",
    "\n",
    "movies_for_sorting = [] #создаем пустой список\n",
    "for movie, rating in movie_ratings.items(): # для названия и рейтинга из словаря\n",
    "    movies_for_sorting.append((rating, movie)) #создаем список с рейтингом и названием\n",
    "\n",
    "movies_for_sorting.sort(reverse=True) #сортируем список и меняем его от большего к меньшему\n",
    "\n",
    "top_10_movies = movies_for_sorting[:10] # берем тольк опервые 10 из отсортированного списка\n",
    "\n",
    "print(\"ТОП-10 фильмов по рейтингу IMDb:\") # выводим результат\n",
    "for i in range(10):\n",
    "    movie_info = top_10_movies[i]\n",
    "    print('№',i+1, movie_info[1],\"-\", movie_info[0])"
   ]
  },
  {
   "cell_type": "markdown",
   "id": "9df1ee68-3790-4baf-ab09-7ab1b86ae31d",
   "metadata": {},
   "source": [
    "## Какой самый продуктивный год?\n",
    "Какой же максимальное кол-во фильмов/сериалов Выпустил Disney за год?"
   ]
  },
  {
   "cell_type": "code",
   "execution_count": 22,
   "id": "6047a411-204c-4af8-a7f5-3966782fb2db",
   "metadata": {},
   "outputs": [
    {
     "name": "stdout",
     "output_type": "stream",
     "text": [
      "Самый продуктивный год: 2019 - 31 записей\n",
      "Самый продуктивный год: 2019 - 31 записей\n"
     ]
    }
   ],
   "source": [
    "# Собираем статистику по годам\n",
    "# задача: составить словарь ,где ключем будет год, а значением - кол-во фильмов ,выпущенных в этот год.\n",
    "year_status = {}\n",
    "no_data = 0\n",
    "\n",
    "for item in data:\n",
    "    year = item['year'] # присваеваем году значение года из словаря. \n",
    "    \n",
    "    if not year or year == 'N/A': # отбрасываем некоректные данные или же пустые \n",
    "        no_data += 1 # добавляем их к счетсику\n",
    "    else:\n",
    "        if year not in year_status: #проверяем. что его еще нет в словаре\n",
    "            year_status[year] = 0 # если год встречается впервые, то создаем новый\n",
    "        year_status[year] += 1 #встречается повторно, поэтому добавляем его к счетчику\n",
    "sorted_year_status = sorted(year_status.items()) #сортируем список\n",
    "\n",
    "max_year = max(year_status, key=year_status.get) #\n",
    "max_count = year_status[max_year] #\n",
    "print(f\"Самый продуктивный год: {max_year} - {max_count} записей\")\n",
    "\n",
    "max_count2 = 0\n",
    "\n",
    "for year, count in year_status.items():\n",
    "    if count > max_count2:\n",
    "        max_count2 = count\n",
    "        max_year2 = year\n",
    "\n",
    "print(f\"Самый продуктивный год: {max_year2} - {max_count2} записей\")\n",
    "\n",
    "#for year, count in sorted_year_status:\n",
    "    #print(f\"{year}: {count}\")"
   ]
  },
  {
   "cell_type": "code",
   "execution_count": null,
   "id": "1f981f3c-14bb-4c35-8ea6-2cf87c06bed0",
   "metadata": {},
   "outputs": [],
   "source": []
  },
  {
   "cell_type": "code",
   "execution_count": 23,
   "id": "d8ccf769-5b64-4092-8a2b-4f5bd667f327",
   "metadata": {},
   "outputs": [
    {
     "name": "stdout",
     "output_type": "stream",
     "text": [
      "Топ режиссеров по количеству работ:\n",
      "N/A: 205 работ\n",
      "Wilfred Jackson: 21 работ\n",
      "Clyde Geronimi: 17 работ\n",
      "Jack Hannah: 16 работ\n",
      "Paul Hoen: 15 работ\n",
      "Jack Kinney: 15 работ\n",
      "Hamilton Luske: 13 работ\n",
      "James Algar: 13 работ\n",
      "John Lasseter: 12 работ\n",
      "Robert Stevenson: 11 работ\n"
     ]
    }
   ],
   "source": [
    "# Собираем режиссеров\n",
    "directors = {}\n",
    "for item in data:\n",
    "    if item['director']:\n",
    "        director_list = [d.strip() for d in item['director'].split(',')]\n",
    "        for director in director_list:\n",
    "            if director not in directors:\n",
    "                directors[director] = 0\n",
    "            directors[director] += 1\n",
    "\n",
    "# Функция для получения количества работ (второй элемент кортежа)\n",
    "def get_director_count(director_tuple):\n",
    "    return director_tuple[1]\n",
    "\n",
    "# Сортируем используя нашу функцию\n",
    "top_directors = sorted(directors.items(), key=get_director_count, reverse=True)\n",
    "\n",
    "print(\"Топ режиссеров по количеству работ:\")\n",
    "for director, count in top_directors[:10]:\n",
    "    print(f\"{director}: {count} работ\")"
   ]
  },
  {
   "cell_type": "code",
   "execution_count": null,
   "id": "a5335c3e-5265-40f5-ac26-ebf125fe8995",
   "metadata": {},
   "outputs": [],
   "source": []
  },
  {
   "cell_type": "code",
   "execution_count": 30,
   "id": "0e0d17cf-4e61-4775-bbef-24903d0afda7",
   "metadata": {},
   "outputs": [
    {
     "name": "stdin",
     "output_type": "stream",
     "text": [
      "Введите имя режиссера:  Tim Burton\n"
     ]
    },
    {
     "name": "stdout",
     "output_type": "stream",
     "text": [
      "\n",
      "Работы режиссера Tim Burton: 4\n",
      "==================================================\n",
      "- Alice in Wonderland (2010)\n",
      "  Тип: movie\n",
      "  Рейтинг: 6.4\n",
      "  Жанр: Adventure, Family, Fantasy\n",
      "\n",
      "- Dumbo (2019)\n",
      "  Тип: movie\n",
      "  Рейтинг: 6.3\n",
      "  Жанр: Adventure, Family, Fantasy\n",
      "\n",
      "- Frankenweenie (2012)\n",
      "  Тип: movie\n",
      "  Рейтинг: 6.9\n",
      "  Жанр: Animation, Comedy, Family, Horror, Sci-Fi\n",
      "\n",
      "- Frankenweenie (1984)\n",
      "  Тип: movie\n",
      "  Рейтинг: 7.3\n",
      "  Жанр: Short, Comedy, Drama, Sci-Fi\n",
      "\n"
     ]
    }
   ],
   "source": [
    "import csv\n",
    "\n",
    "with open('disney_plus_shows.csv', 'r', encoding='utf-8') as f:\n",
    "    csv_reader = csv.DictReader(f)\n",
    "    data = list(csv_reader)\n",
    "\n",
    "def find_by_director(director_name):\n",
    "    \"\"\"Поиск контента по режиссеру\"\"\"\n",
    "    results = []\n",
    "    for item in data:\n",
    "        if item['director'] and director_name.lower() in item['director'].lower():\n",
    "            results.append(item)\n",
    "    return results\n",
    "\n",
    "# Запрашиваем режиссера у пользователя\n",
    "director_name = input(\"Введите имя режиссера: \")\n",
    "\n",
    "# Ищем работы режиссера\n",
    "director_works = find_by_director(director_name)\n",
    "\n",
    "if director_works:\n",
    "    print(f\"\\nРаботы режиссера {director_name}: {len(director_works)}\")\n",
    "    print(\"=\" * 50)\n",
    "    \n",
    "    for work in director_works:\n",
    "        print(f\"- {work['title']} ({work['year']})\")\n",
    "        print(f\"  Тип: {work['type']}\")\n",
    "        print(f\"  Рейтинг: {work['imdb_rating']}\")\n",
    "        print(f\"  Жанр: {work['genre']}\")\n",
    "        print()\n",
    "else:\n",
    "    print(f\"\\nРежиссер {director_name} не найден в базе данных\")"
   ]
  },
  {
   "cell_type": "code",
   "execution_count": null,
   "id": "8f4c863a-b3b5-4162-9b35-55b665b3c8ef",
   "metadata": {},
   "outputs": [],
   "source": []
  },
  {
   "cell_type": "markdown",
   "id": "67948a07",
   "metadata": {},
   "source": [
    "## Выводы\n",
    "\n",
    "Сделайте короткое описание того, что вы сделали и зачем, какие выводы должен извлечь читатель из вашего исследования."
   ]
  },
  {
   "cell_type": "code",
   "execution_count": null,
   "id": "c3059842-5369-4b35-a3f0-2a7d095302bf",
   "metadata": {},
   "outputs": [],
   "source": []
  }
 ],
 "metadata": {
  "kernelspec": {
   "display_name": "Python 3 (ipykernel)",
   "language": "python",
   "name": "python3"
  },
  "language_info": {
   "codemirror_mode": {
    "name": "ipython",
    "version": 3
   },
   "file_extension": ".py",
   "mimetype": "text/x-python",
   "name": "python",
   "nbconvert_exporter": "python",
   "pygments_lexer": "ipython3",
   "version": "3.13.5"
  }
 },
 "nbformat": 4,
 "nbformat_minor": 5
}
