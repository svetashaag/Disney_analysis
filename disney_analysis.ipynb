{
 "cells": [
  {
   "cell_type": "markdown",
   "id": "94d88980",
   "metadata": {},
   "source": [
    "## Импортируем и читаем какие-то непонятные буковки и циферки\n",
    "Первым делом нужно понять, с чем мы имеем дело. Открываем наш датасет и читаем его. "
   ]
  },
  {
   "cell_type": "code",
   "execution_count": 47,
   "id": "fda48f7f",
   "metadata": {},
   "outputs": [],
   "source": [
    "import csv\n",
    "\n",
    "with open('disney_plus_shows.csv', 'r', encoding='utf-8') as f:\n",
    "    csv_reader = csv.DictReader(f)\n",
    "    \n",
    "    data = list(csv_reader)\n",
    "#print(data)"
   ]
  },
  {
   "cell_type": "markdown",
   "id": "d8e0b84e-a233-4c3a-9145-40b211e810ba",
   "metadata": {},
   "source": [
    "## Сколько же всего фильмов? Хватит, чтобы съесть весь попкорн?\n",
    "\n",
    "Начнем с базы. Мы  узнаем сколько всего контента: Чего больше? Фильмов или же сериалов?)\n"
   ]
  },
  {
   "cell_type": "code",
   "execution_count": 17,
   "id": "672bd57a",
   "metadata": {},
   "outputs": [
    {
     "name": "stdout",
     "output_type": "stream",
     "text": [
      "Всего фильмов: 680\n",
      "Всего сериалов: 191\n",
      "Всего контента: 871\n"
     ]
    }
   ],
   "source": [
    "# 1. Подсчет фильмов и сериалов\n",
    "films = 0\n",
    "serials = 0\n",
    "no_data = 0\n",
    "# Проходим по всем элементам\n",
    "for kontent in data:\n",
    "    if kontent['type'] == 'movie':\n",
    "        films += 1\n",
    "    elif kontent['type'] == 'series':\n",
    "        serials += 1\n",
    "        \n",
    "# Выводим результаты\n",
    "print(\"Всего фильмов:\", films)\n",
    "print(\"Всего сериалов:\", serials)\n",
    "print(\"Всего контента:\", films + serials)"
   ]
  },
  {
   "cell_type": "markdown",
   "id": "51b0e766-69d4-46ce-a4d8-aeb95f85bead",
   "metadata": {},
   "source": [
    " ## ТОП-10 фильмов с самыми высокими рейтингами IMDb.\n",
    "Как истиный фанат франшизы Disney, вы встаете перед выбором, что посмотреть вечером выходного и решаете выбрать самый лучший фильм по  рейтингу IMDb, поэтому вот вам топ фильмов на вечер)"
   ]
  },
  {
   "cell_type": "code",
   "execution_count": 16,
   "id": "c4041330-e473-45c6-9512-ee5a09ad0037",
   "metadata": {},
   "outputs": [
    {
     "name": "stdout",
     "output_type": "stream",
     "text": [
      "ТОП-10 фильмов по рейтингу IMDb:\n",
      "№ 1 Star Wars: Episode V - The Empire Strikes Back - 8.7\n",
      "№ 2 Star Wars: Episode IV - A New Hope - 8.6\n",
      "№ 3 The Lion King - 8.5\n",
      "№ 4 Disney's Newsies: The Broadway Musical! - 8.5\n",
      "№ 5 WALL·E - 8.4\n",
      "№ 6 Presto - 8.4\n",
      "№ 7 Piper - 8.4\n",
      "№ 8 Coco - 8.4\n",
      "№ 9 Avengers: Endgame - 8.4\n",
      "№ 10 Toy Story 3 - 8.3\n"
     ]
    }
   ],
   "source": [
    "movie_ratings = {} #создаем новый словарь\n",
    "\n",
    "for item in data: # проходим по всем элементам в data\n",
    "    if item['type'] == 'movie' and item['imdb_rating'] and item['imdb_rating'] != 'N/A': # проверяем, что нет пустых значений, они на не нужныыы\n",
    "        movie_ratings[item['title']] = item['imdb_rating'] # добавляем в новый словарь ключи и значения.\n",
    "\n",
    "movies_for_sorting = [] #создаем пустой список\n",
    "for movie, rating in movie_ratings.items(): # для названия и рейтинга из словаря\n",
    "    movies_for_sorting.append((rating, movie)) #создаем список с рейтингом и названием\n",
    "\n",
    "movies_for_sorting.sort(reverse=True) #сортируем список и меняем его от большего к меньшему\n",
    "\n",
    "top_10_movies = movies_for_sorting[:10] # берем тольк опервые 10 из отсортированного списка\n",
    "\n",
    "print(\"ТОП-10 фильмов по рейтингу IMDb:\") # выводим результат\n",
    "for i in range(10):\n",
    "    movie_info = top_10_movies[i]\n",
    "    print('№',i+1, movie_info[1],\"-\", movie_info[0])"
   ]
  },
  {
   "cell_type": "markdown",
   "id": "9df1ee68-3790-4baf-ab09-7ab1b86ae31d",
   "metadata": {},
   "source": [
    "## Какой самый продуктивный год?\n",
    "Были ли у Disney годы, когда они не спали ночами, чтобы радовать нас новинками? Сейчас узнаем, какой год был самым активным."
   ]
  },
  {
   "cell_type": "code",
   "execution_count": 22,
   "id": "6047a411-204c-4af8-a7f5-3966782fb2db",
   "metadata": {},
   "outputs": [
    {
     "name": "stdout",
     "output_type": "stream",
     "text": [
      "Самый продуктивный год: 2019 - 31 записей\n"
     ]
    }
   ],
   "source": [
    "# Собираем статистику по годам\n",
    "# задача: составить словарь ,где ключем будет год, а значением - кол-во фильмов ,выпущенных в этот год.\n",
    "year_status = {}\n",
    "no_data = 0\n",
    "\n",
    "for item in data:\n",
    "    year = item['year'] # присваеваем году значение года из словаря. \n",
    "    \n",
    "    if not year or year == 'N/A': # отбрасываем некоректные данные или же пустые \n",
    "        no_data += 1 # добавляем их к счетсику\n",
    "    else:\n",
    "        if year not in year_status: #проверяем. что его еще нет в словаре\n",
    "            year_status[year] = 0 # если год встречается впервые, то создаем новый\n",
    "        year_status[year] += 1 #встречается повторно, поэтому добавляем его к счетчику\n",
    "sorted_year_status = sorted(year_status.items()) #сортируем список\n",
    "\n",
    "max_count2 = 0\n",
    "\n",
    "for year, count in year_status.items():\n",
    "    if count > max_count2:\n",
    "        max_count2 = count\n",
    "        max_year2 = year\n",
    "\n",
    "print('Самый продуктивный год:', max_year2, '-', max_count2, 'записей')"
   ]
  },
  {
   "cell_type": "markdown",
   "id": "54ae7e63-857c-4370-a305-4d50d06cfdc5",
   "metadata": {},
   "source": [
    "## Какой самый длинный фильм? Какая средняя продолжительность фильмов/сериалов?\n",
    "Хватит ли время фильма пока вы в дороге? Или же наоборот хонометраж окажется слишком маленьким("
   ]
  },
  {
   "cell_type": "code",
   "execution_count": 46,
   "id": "967e3715-b34d-40f9-83a2-01e7f713e6eb",
   "metadata": {},
   "outputs": [
    {
     "name": "stdout",
     "output_type": "stream",
     "text": [
      "Средняя продолжительность фильмов: 78.38670694864048 мин\n",
      "Средняя продолжительность сериалов: 28.16883116883117 мин\n",
      "\n",
      "Самый длинный фильм: Avengers: Endgame - 181 мин\n",
      "Самый короткий фильм: For the Birds - 3 мин\n",
      "\n",
      "Самый длинный сериал(одна серия): Dog Whisperer with Cesar Millan - 110 мин\n",
      "Самый короткий сериал(одна серия): Star Wars Blips - 1 мин\n"
     ]
    }
   ],
   "source": [
    "# Создаем списки для хранения данных\n",
    "movies_runtime = []\n",
    "series_runtime = []\n",
    "\n",
    "movies_titles = []\n",
    "series_titles = []\n",
    "\n",
    "# Обрабатываем каждый элемент данных\n",
    "for item in data:\n",
    "    # Проверяем тип и продолжительность (исключаем 'N/A' и пустые строки)\n",
    "    if item['runtime'] != 'N/A' and item['runtime'] != '':\n",
    "        # Извлекаем число из строки продолжительности\n",
    "        runtime_parts = item['runtime'].split()\n",
    "        if len(runtime_parts) > 0:  # Проверяем, что есть хотя бы одна часть\n",
    "            runtime_number = int(runtime_parts[0])\n",
    "            \n",
    "            # Разделяем по типу\n",
    "            if item['type'] == 'movie':\n",
    "                movies_runtime.append(runtime_number)\n",
    "                movies_titles.append(item['title'])\n",
    "            elif item['type'] == 'series':\n",
    "                series_runtime.append(runtime_number)\n",
    "                series_titles.append(item['title'])\n",
    "\n",
    "# Вычисляем среднюю продолжительность для фильмов\n",
    "count_movies = len(movies_runtime)\n",
    "total_movies = sum(movies_runtime)\n",
    "avg_movie = total_movies / count_movies\n",
    "\n",
    "# Вычисляем среднюю продолжительность для сериалов\n",
    "count_series = len(series_runtime)\n",
    "total_series = sum(series_runtime)\n",
    "avg_series = total_series / count_series\n",
    "\n",
    "# Для фильмов\n",
    "longest_movie_time = max(movies_runtime)\n",
    "shortest_movie_time = min(movies_runtime)\n",
    "longest_movie_title = movies_titles[movies_runtime.index(longest_movie_time)]\n",
    "shortest_movie_title = movies_titles[movies_runtime.index(shortest_movie_time)]\n",
    "\n",
    "# Для сериалов\n",
    "longest_series_time = max(series_runtime)\n",
    "shortest_series_time = min(series_runtime)\n",
    "longest_series_title = series_titles[series_runtime.index(longest_series_time)]\n",
    "shortest_series_title = series_titles[series_runtime.index(shortest_series_time)]\n",
    "\n",
    "# Вывод результатов\n",
    "print('Средняя продолжительность фильмов:', avg_movie, 'мин')\n",
    "print('Средняя продолжительность сериалов:', avg_series, 'мин')\n",
    "print()\n",
    "print('Самый длинный фильм:', longest_movie_title, '-', longest_movie_time, 'мин')\n",
    "print('Самый короткий фильм:', shortest_movie_title, '-', shortest_movie_time, 'мин')\n",
    "print()\n",
    "print('Самый длинный сериал(одна серия):', longest_series_title, '-', longest_series_time, 'мин')\n",
    "print('Самый короткий сериал(одна серия):', shortest_series_title, '-', shortest_series_time, 'мин')"
   ]
  },
  {
   "cell_type": "markdown",
   "id": "cf166c30-7a70-43e0-9425-da0313686d49",
   "metadata": {},
   "source": [
    "## Кто же больше всех потрудился?\n",
    "Какой же режиссер стал самым продуктивным?"
   ]
  },
  {
   "cell_type": "code",
   "execution_count": 12,
   "id": "d8ccf769-5b64-4092-8a2b-4f5bd667f327",
   "metadata": {
    "scrolled": true
   },
   "outputs": [
    {
     "name": "stdout",
     "output_type": "stream",
     "text": [
      "Топ режиссеров по количеству работ:\n",
      "N/A: 205 работ\n",
      "Jack Hannah: 16 работ\n",
      "Paul Hoen: 15 работ\n",
      "Wilfred Jackson: 12 работ\n",
      "John Lasseter: 12 работ\n",
      "James Algar: 12 работ\n",
      "Clyde Geronimi: 12 работ\n",
      " Hamilton Luske: 12 работ\n",
      "Robert Stevenson: 11 работ\n",
      "Vincent McEveety: 10 работ\n"
     ]
    }
   ],
   "source": [
    "# Собираем режиссеров\n",
    "directors = {} #создаем пустой словарь\n",
    "for item in data: #перебираем каждый элемент в данных\n",
    "    if item['director']: \n",
    "        director_list = item['director'].split(',') #разбиваем по запятым, режиссеров много мб\n",
    "        for director in director_list: # перебираем каждого режиссера \n",
    "            if director not in directors: #проверяем есть ли этот режиссер в нашем списке\n",
    "                directors[director] = 0 # если режиссера нет, добавляем с начальным значением 0\n",
    "            directors[director] += 1 # если уже есть, то добавляем его к счетчику\n",
    "\n",
    "# Создаем список для сортировки\n",
    "directors_list = []\n",
    "for director_name in directors:\n",
    "    directors_list.append([directors[director_name], director_name])\n",
    "\n",
    "# Сортируем и переворачиваем\n",
    "directors_list.sort()\n",
    "directors_list.reverse()\n",
    "\n",
    "print(\"Топ режиссеров по количеству работ:\") \n",
    "for director_info in directors_list[:10]: # выводим только первые топ 10\n",
    "    print(f\"{director_info[1]}: {director_info[0]} работ\") # выводим данные"
   ]
  },
  {
   "cell_type": "markdown",
   "id": "ab8b2933-5b1c-4d39-9df3-088fd2a90984",
   "metadata": {},
   "source": [
    "### Мдээээ, увы ,видимно не хватает данных по режисерам. Более 20% фильмов без данных, но ладно. Самый большой трудяга по этим данным: Джек Ханна, режиссер достаточно старых фильмов Disney. В основном его работы 40-х и 50-х годов."
   ]
  },
  {
   "cell_type": "markdown",
   "id": "d7fb00a9-7150-4d3c-a725-3fa06363cc35",
   "metadata": {},
   "source": [
    "## Какой жанр стал главным в киноиндустрии?\n",
    "Пишем дисс на Дисней. Оказывается, у них есть явные жанры - фавориты."
   ]
  },
  {
   "cell_type": "code",
   "execution_count": 11,
   "id": "87e9dc90-6834-4987-bf46-4f445ce6e107",
   "metadata": {},
   "outputs": [
    {
     "name": "stdout",
     "output_type": "stream",
     "text": [
      "Топ жанров по количеству работ:\n",
      " Family: 619 работ\n",
      "Animation: 356 работ\n",
      " Comedy: 333 работ\n",
      " Adventure: 265 работ\n",
      " Fantasy: 241 работ\n",
      "Comedy: 163 работ\n",
      " Sci-Fi: 153 работ\n",
      " Drama: 146 работ\n",
      " Short: 130 работ\n",
      " Musical: 120 работ\n"
     ]
    }
   ],
   "source": [
    "# Собираем режиссеров\n",
    "genres = {} #создаем пустой словарь\n",
    "for item in data: #перебираем каждый элемент в данных\n",
    "    if item['genre']: \n",
    "        genre_list = item['genre'].split(',') #разбиваем по запятым, вдруг несколько жанров\n",
    "        for genre in genre_list: # еребираем каждого режисера \n",
    "            if genre not in genres: #проверяем естть ли этот режиссер в нашем списке\n",
    "                genres[genre] = 0 # если режисера нет, добавляем с начальным значением 0\n",
    "            genres[genre] += 1 # если уже есть, то добавлем его к счетчику\n",
    "\n",
    "genres_list = []\n",
    "for genre_name in genres:\n",
    "    genres_list.append([genres[genre_name], genre_name])\n",
    "\n",
    "# Сортируем и переворачиваем\n",
    "genres_list.sort()\n",
    "genres_list.reverse()\n",
    "\n",
    "print(\"Топ жанров по количеству работ:\") \n",
    "for genre_info in genres_list[:10]: # выводим только первые топ 10\n",
    "    print(f\"{genre_info[1]}: {genre_info[0]} работ\") # выводим данные"
   ]
  },
  {
   "cell_type": "markdown",
   "id": "67948a07",
   "metadata": {},
   "source": [
    "## Барабанная дробь... ИТОГИ ПОГРУЖЕНИЯ ВО ВСЕЛЕННУЮ DISNEY\n",
    "\n",
    "Итого, используя открытые данные с сайта Kaggle мы смогли понять, что:\n",
    "1. Фильмов больше, чем сериалов\n",
    "2.  Самым высокорейтинговый фильм - **Звёздные войны: Эпизод 5 – Империя наносит ответный удар** (Фанаты Звездных войн, вы рады?).\n",
    "3.  Больше всего контента Disney выпускал в **2019 году - целых 31!!**\n",
    "4.  Самым активным режисером стал **Джек Ханна**.\n",
    "5.  Самым численным жанром франшизы стал **семейный фильм**, что неудивительно для вселенной Disney, так как в основном он ориентирован на аудиторию разных возрастов и полов, с акцентом на семейную группу с детьми.\n",
    "6.  Средняя длина фильмов составляет **78 минут**, в то время как сериалы длятся в среднем **28 минут** за эпизод\n",
    "7.  Самый длинный фильм в библиотеке - **«Avengers: Endgame» (181 минута)**\n",
    "8.  Самый короткий фильм - **«For the Birds» (окак, всего 3 минуты)**\n",
    "9.  Среди сериалов рекордсменом по длине эпизода стал **«Dog Whisperer with Cesar Millan» (110 минут)**\n",
    "10.  Самый короткий эпизод сериала - **«Star Wars Blips» (1 минута)**"
   ]
  },
  {
   "cell_type": "code",
   "execution_count": 3,
   "id": "c3059842-5369-4b35-a3f0-2a7d095302bf",
   "metadata": {},
   "outputs": [
    {
     "name": "stdout",
     "output_type": "stream",
     "text": [
      "                                           %                                                                            \n",
      "                                           @                                                                            \n",
      "                                  =                                                                                     \n",
      "                                  @      -    %                                                                         \n",
      "                                # #     @   #=                                                                          \n",
      "                            #:   =: +  @   %                                                                            \n",
      "                              @     % -  ==   =%                                                                        \n",
      "                                 %  @ @ #            =                  .@#                                             \n",
      "                              .            =@#       :                                                                  \n",
      "                                             .-=-          =@@@@@                                                       \n",
      "                                                                *                                                       \n",
      "                         .  ==           --: ::..               @                 -    .                                \n",
      "                         :+   .  # *   =                        @                 .                                     \n",
      "                             % #  @ :  :  :@                   @%#@@        +  *        =                               \n",
      "                           =  #   # % # +    @                 @++=@-         :    : .                                  \n",
      "                            +    @  :  @ -                    @@%##@       .   .  :    .  -                             \n",
      "                           -  +  * *   #                          @@             :. =                                   \n",
      "                             #  @  @  # @             :       .==                   .:-   .                             \n",
      "                            *   %     @ @             @      @@@@@@@=             -  -  =                               \n",
      "                           :   -      @  :            @@          @               -  :   =                              \n",
      "                                                     %@@          @*                     .                              \n",
      "                            .@                         @ *          #                                                   \n",
      "                                    =*@@@@          @@ @:@@  @@@@@@@@                                                   \n",
      "                                         +           @  +=#% -  -  @                                                    \n",
      "                                        @@@          + %+==%       @     @.                                             \n",
      "                                       @%=*@     =.  -@##-%#%@   @ @     @*                                             \n",
      "                                      @@@@@@@*   @@  @% @ @ @#  %#-@     @@                                             \n",
      "                   -@@@#@@                  #+  =@@ @#@  += @=#*@@@@    :@@         *=   :                              \n",
      "                         :                  =%:#+  @%%@  @# @##@   @     #@           :#@@                              \n",
      "                         @             @@ @ #@ @   @=:#  @% @- @#  @    :#%               @                             \n",
      "                        #@@           #@%#%*## *.  @     #:    @   @#@@%#*#@@            #@                             \n",
      "                        @=#@          #@@ @#+-     %           @   @=--=%@ @@@@          @#@                            \n",
      "                       @@%#%@    ..-= @    @#@@@@##@@@@@@@@@@@@@@:@%+*#@:   #@@@#       @@@@@                           \n",
      "                  @ +    :  % @  @@@ @@ %@ @* @*@  @+###:  @##+*@ :@@ :@  @  @: @@%                                     \n",
      "                 #@#@@@@@@@@@@@=%*=*          @#@  @@  @@  @. @@@ +@@                @+@=@@:@@+@                        \n",
      "                +@@@@          #+=+%=@%@@@@*@*         :   -          @@#@=@@#@ @@@  @@@@@@@@@@@                        \n",
      "                              @%@=#@#@      @@    :.*#          .-   =@*.=-=  @#@@@                                     \n",
      "               @@@@@@@   @@ #@  @  @        @@    @*    @@@@ @* @    #@       @%  @ =@ :@    @@                         \n",
      "                                            @#@   @:    @    @  @   .%@       @.             @@                         \n",
      "              @      @@   :=-    :-==       @*@=  @:  :@#   @@+ @   @*@       @@             @@                         \n",
      "             @@    @@%@ @     %#            ##@   @-     -+     @   @-@       @@     .   @   @%#@                       \n",
      "             %#    @--##@    @@%@@ .@       +#@      @@@###%@@=     @=@       @@    @@@@ @@  %#=@                       \n",
      "           @@@=   +#----@    ==-+= @@       :#@     @#=------+@-    @+@       @%@ @%+==# #%* =#-#+                      \n",
      "          *@%@. =%@@+--:@  @@#=-=*+*@       .%@    @#---------+@    %#@       *#***----===+@  *==@                      \n",
      "                =   @@@%%%%=-------+@        @@    @=----------@    +@#       -%-----=##@@@@@@@@@@@@:                   \n",
      "                        -@#+==-----*+        @@    @@@@@@@@@@@@@    #@@        @---==#                                  \n",
      "                 :=:.    :*#%@@@@@@@@+:                                        @@@@@%#*+*=-=:                           \n",
      "                       -:                :=@@@@@@@@=                #@@@@@@@@=              :=                          \n",
      "                                     :=%@@@@##+-                           :=#@@@@@%#                                   \n",
      "                         @@@@@@@@@%.                                                  @@@@@@@@@                         \n",
      "                                -#@@@@@@@@@@@@@@@@@*                     %@@@@@@@@@@@@@*.                               \n",
      "                                                                                                                        \n",
      " @@@*@@@@@@@@@:                                                                            \n"
     ]
    }
   ],
   "source": [
    "with open('castle.txt', encoding='utf-8') as f:\n",
    "    castle = f.read()\n",
    "print(castle)"
   ]
  }
 ],
 "metadata": {
  "kernelspec": {
   "display_name": "Python 3 (ipykernel)",
   "language": "python",
   "name": "python3"
  },
  "language_info": {
   "codemirror_mode": {
    "name": "ipython",
    "version": 3
   },
   "file_extension": ".py",
   "mimetype": "text/x-python",
   "name": "python",
   "nbconvert_exporter": "python",
   "pygments_lexer": "ipython3",
   "version": "3.13.5"
  }
 },
 "nbformat": 4,
 "nbformat_minor": 5
}
